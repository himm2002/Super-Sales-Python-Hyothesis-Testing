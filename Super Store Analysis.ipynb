{
 "cells": [
  {
   "cell_type": "markdown",
   "id": "8e8d18bc-9800-4e48-bc43-0c9274f0ca5e",
   "metadata": {},
   "source": [
    "# Super store sales Analysis "
   ]
  },
  {
   "cell_type": "code",
   "execution_count": 2,
   "id": "6f751c5f-ab96-4624-93aa-2ec4aa8e89d7",
   "metadata": {},
   "outputs": [],
   "source": [
    "import pandas as pd\n",
    "import matplotlib.pyplot as plt\n",
    "from pandas import DataFrame,Series\n",
    "import os"
   ]
  },
  {
   "cell_type": "code",
   "execution_count": 4,
   "id": "37798d55-80d6-42c0-93f0-0bec0018afca",
   "metadata": {},
   "outputs": [],
   "source": [
    "import numpy as np"
   ]
  },
  {
   "cell_type": "code",
   "execution_count": 6,
   "id": "b821da8e-a2ea-4465-a865-2daa29438f90",
   "metadata": {},
   "outputs": [],
   "source": [
    "pd.set_option(\"display.float_format\",lambda x: \"%.3f\" %x)"
   ]
  },
  {
   "cell_type": "code",
   "execution_count": 8,
   "id": "8e9c6d05-b980-44af-8b42-0ba5c5bb178a",
   "metadata": {},
   "outputs": [],
   "source": [
    "os.chdir(\"C://Users//Administrator//OneDrive//Documents//Python//Excel files//Python Datasets//Super Store Data\")"
   ]
  },
  {
   "cell_type": "code",
   "execution_count": 12,
   "id": "36aa3bbd-55ef-4550-9620-f7fcedcf4a17",
   "metadata": {},
   "outputs": [],
   "source": [
    "store_data = pd.read_csv(\"superstore_dataset2011-2015.csv\",encoding= \"ISO-8859-1\")"
   ]
  },
  {
   "cell_type": "code",
   "execution_count": 14,
   "id": "b4495883-9e96-423f-b08a-a690ba4d5d7e",
   "metadata": {},
   "outputs": [
    {
     "data": {
      "text/html": [
       "<div>\n",
       "<style scoped>\n",
       "    .dataframe tbody tr th:only-of-type {\n",
       "        vertical-align: middle;\n",
       "    }\n",
       "\n",
       "    .dataframe tbody tr th {\n",
       "        vertical-align: top;\n",
       "    }\n",
       "\n",
       "    .dataframe thead th {\n",
       "        text-align: right;\n",
       "    }\n",
       "</style>\n",
       "<table border=\"1\" class=\"dataframe\">\n",
       "  <thead>\n",
       "    <tr style=\"text-align: right;\">\n",
       "      <th></th>\n",
       "      <th>Row ID</th>\n",
       "      <th>Order ID</th>\n",
       "      <th>Order Date</th>\n",
       "      <th>Ship Date</th>\n",
       "      <th>Ship Mode</th>\n",
       "      <th>Customer ID</th>\n",
       "      <th>Customer Name</th>\n",
       "      <th>Segment</th>\n",
       "      <th>City</th>\n",
       "      <th>State</th>\n",
       "      <th>...</th>\n",
       "      <th>Product ID</th>\n",
       "      <th>Category</th>\n",
       "      <th>Sub-Category</th>\n",
       "      <th>Product Name</th>\n",
       "      <th>Sales</th>\n",
       "      <th>Quantity</th>\n",
       "      <th>Discount</th>\n",
       "      <th>Profit</th>\n",
       "      <th>Shipping Cost</th>\n",
       "      <th>Order Priority</th>\n",
       "    </tr>\n",
       "  </thead>\n",
       "  <tbody>\n",
       "    <tr>\n",
       "      <th>0</th>\n",
       "      <td>42433</td>\n",
       "      <td>AG-2011-2040</td>\n",
       "      <td>1/1/2011</td>\n",
       "      <td>6/1/2011</td>\n",
       "      <td>Standard Class</td>\n",
       "      <td>TB-11280</td>\n",
       "      <td>Toby Braunhardt</td>\n",
       "      <td>Consumer</td>\n",
       "      <td>Constantine</td>\n",
       "      <td>Constantine</td>\n",
       "      <td>...</td>\n",
       "      <td>OFF-TEN-10000025</td>\n",
       "      <td>Office Supplies</td>\n",
       "      <td>Storage</td>\n",
       "      <td>Tenex Lockers, Blue</td>\n",
       "      <td>408.300</td>\n",
       "      <td>2</td>\n",
       "      <td>0.000</td>\n",
       "      <td>106.140</td>\n",
       "      <td>35.460</td>\n",
       "      <td>Medium</td>\n",
       "    </tr>\n",
       "    <tr>\n",
       "      <th>1</th>\n",
       "      <td>22253</td>\n",
       "      <td>IN-2011-47883</td>\n",
       "      <td>1/1/2011</td>\n",
       "      <td>8/1/2011</td>\n",
       "      <td>Standard Class</td>\n",
       "      <td>JH-15985</td>\n",
       "      <td>Joseph Holt</td>\n",
       "      <td>Consumer</td>\n",
       "      <td>Wagga Wagga</td>\n",
       "      <td>New South Wales</td>\n",
       "      <td>...</td>\n",
       "      <td>OFF-SU-10000618</td>\n",
       "      <td>Office Supplies</td>\n",
       "      <td>Supplies</td>\n",
       "      <td>Acme Trimmer, High Speed</td>\n",
       "      <td>120.366</td>\n",
       "      <td>3</td>\n",
       "      <td>0.100</td>\n",
       "      <td>36.036</td>\n",
       "      <td>9.720</td>\n",
       "      <td>Medium</td>\n",
       "    </tr>\n",
       "    <tr>\n",
       "      <th>2</th>\n",
       "      <td>48883</td>\n",
       "      <td>HU-2011-1220</td>\n",
       "      <td>1/1/2011</td>\n",
       "      <td>5/1/2011</td>\n",
       "      <td>Second Class</td>\n",
       "      <td>AT-735</td>\n",
       "      <td>Annie Thurman</td>\n",
       "      <td>Consumer</td>\n",
       "      <td>Budapest</td>\n",
       "      <td>Budapest</td>\n",
       "      <td>...</td>\n",
       "      <td>OFF-TEN-10001585</td>\n",
       "      <td>Office Supplies</td>\n",
       "      <td>Storage</td>\n",
       "      <td>Tenex Box, Single Width</td>\n",
       "      <td>66.120</td>\n",
       "      <td>4</td>\n",
       "      <td>0.000</td>\n",
       "      <td>29.640</td>\n",
       "      <td>8.170</td>\n",
       "      <td>High</td>\n",
       "    </tr>\n",
       "    <tr>\n",
       "      <th>3</th>\n",
       "      <td>11731</td>\n",
       "      <td>IT-2011-3647632</td>\n",
       "      <td>1/1/2011</td>\n",
       "      <td>5/1/2011</td>\n",
       "      <td>Second Class</td>\n",
       "      <td>EM-14140</td>\n",
       "      <td>Eugene Moren</td>\n",
       "      <td>Home Office</td>\n",
       "      <td>Stockholm</td>\n",
       "      <td>Stockholm</td>\n",
       "      <td>...</td>\n",
       "      <td>OFF-PA-10001492</td>\n",
       "      <td>Office Supplies</td>\n",
       "      <td>Paper</td>\n",
       "      <td>Enermax Note Cards, Premium</td>\n",
       "      <td>44.865</td>\n",
       "      <td>3</td>\n",
       "      <td>0.500</td>\n",
       "      <td>-26.055</td>\n",
       "      <td>4.820</td>\n",
       "      <td>High</td>\n",
       "    </tr>\n",
       "    <tr>\n",
       "      <th>4</th>\n",
       "      <td>22255</td>\n",
       "      <td>IN-2011-47883</td>\n",
       "      <td>1/1/2011</td>\n",
       "      <td>8/1/2011</td>\n",
       "      <td>Standard Class</td>\n",
       "      <td>JH-15985</td>\n",
       "      <td>Joseph Holt</td>\n",
       "      <td>Consumer</td>\n",
       "      <td>Wagga Wagga</td>\n",
       "      <td>New South Wales</td>\n",
       "      <td>...</td>\n",
       "      <td>FUR-FU-10003447</td>\n",
       "      <td>Furniture</td>\n",
       "      <td>Furnishings</td>\n",
       "      <td>Eldon Light Bulb, Duo Pack</td>\n",
       "      <td>113.670</td>\n",
       "      <td>5</td>\n",
       "      <td>0.100</td>\n",
       "      <td>37.770</td>\n",
       "      <td>4.700</td>\n",
       "      <td>Medium</td>\n",
       "    </tr>\n",
       "  </tbody>\n",
       "</table>\n",
       "<p>5 rows × 24 columns</p>\n",
       "</div>"
      ],
      "text/plain": [
       "   Row ID         Order ID Order Date Ship Date       Ship Mode Customer ID  \\\n",
       "0   42433     AG-2011-2040   1/1/2011  6/1/2011  Standard Class    TB-11280   \n",
       "1   22253    IN-2011-47883   1/1/2011  8/1/2011  Standard Class    JH-15985   \n",
       "2   48883     HU-2011-1220   1/1/2011  5/1/2011    Second Class      AT-735   \n",
       "3   11731  IT-2011-3647632   1/1/2011  5/1/2011    Second Class    EM-14140   \n",
       "4   22255    IN-2011-47883   1/1/2011  8/1/2011  Standard Class    JH-15985   \n",
       "\n",
       "     Customer Name      Segment         City            State  ...  \\\n",
       "0  Toby Braunhardt     Consumer  Constantine      Constantine  ...   \n",
       "1      Joseph Holt     Consumer  Wagga Wagga  New South Wales  ...   \n",
       "2    Annie Thurman     Consumer     Budapest         Budapest  ...   \n",
       "3     Eugene Moren  Home Office    Stockholm        Stockholm  ...   \n",
       "4      Joseph Holt     Consumer  Wagga Wagga  New South Wales  ...   \n",
       "\n",
       "         Product ID         Category Sub-Category  \\\n",
       "0  OFF-TEN-10000025  Office Supplies      Storage   \n",
       "1   OFF-SU-10000618  Office Supplies     Supplies   \n",
       "2  OFF-TEN-10001585  Office Supplies      Storage   \n",
       "3   OFF-PA-10001492  Office Supplies        Paper   \n",
       "4   FUR-FU-10003447        Furniture  Furnishings   \n",
       "\n",
       "                  Product Name   Sales Quantity Discount  Profit  \\\n",
       "0          Tenex Lockers, Blue 408.300        2    0.000 106.140   \n",
       "1     Acme Trimmer, High Speed 120.366        3    0.100  36.036   \n",
       "2      Tenex Box, Single Width  66.120        4    0.000  29.640   \n",
       "3  Enermax Note Cards, Premium  44.865        3    0.500 -26.055   \n",
       "4   Eldon Light Bulb, Duo Pack 113.670        5    0.100  37.770   \n",
       "\n",
       "   Shipping Cost  Order Priority  \n",
       "0         35.460          Medium  \n",
       "1          9.720          Medium  \n",
       "2          8.170            High  \n",
       "3          4.820            High  \n",
       "4          4.700          Medium  \n",
       "\n",
       "[5 rows x 24 columns]"
      ]
     },
     "execution_count": 14,
     "metadata": {},
     "output_type": "execute_result"
    }
   ],
   "source": [
    "store_data.head()"
   ]
  },
  {
   "cell_type": "markdown",
   "id": "4498ef34-2d4e-4032-a6bb-f5e06f7b715f",
   "metadata": {},
   "source": [
    "# Data Cleaning"
   ]
  },
  {
   "cell_type": "code",
   "execution_count": 17,
   "id": "b482b71e-6e31-41fe-8f07-e4ec51bd979a",
   "metadata": {},
   "outputs": [
    {
     "data": {
      "text/plain": [
       "Row ID                0\n",
       "Order ID              0\n",
       "Order Date            0\n",
       "Ship Date             0\n",
       "Ship Mode             0\n",
       "Customer ID           0\n",
       "Customer Name         0\n",
       "Segment               0\n",
       "City                  0\n",
       "State                 0\n",
       "Country               0\n",
       "Postal Code       41296\n",
       "Market                0\n",
       "Region                0\n",
       "Product ID            0\n",
       "Category              0\n",
       "Sub-Category          0\n",
       "Product Name          0\n",
       "Sales                 0\n",
       "Quantity              0\n",
       "Discount              0\n",
       "Profit                0\n",
       "Shipping Cost         0\n",
       "Order Priority        0\n",
       "dtype: int64"
      ]
     },
     "execution_count": 17,
     "metadata": {},
     "output_type": "execute_result"
    }
   ],
   "source": [
    "store_data.isnull().sum()"
   ]
  },
  {
   "cell_type": "markdown",
   "id": "0263160d-99ed-48c3-8864-82972c2d7d44",
   "metadata": {},
   "source": [
    "# shape of the dataset"
   ]
  },
  {
   "cell_type": "code",
   "execution_count": 28,
   "id": "8772d2b3-8e84-4d69-8251-2d146e048b19",
   "metadata": {},
   "outputs": [
    {
     "name": "stdout",
     "output_type": "stream",
     "text": [
      "Number of columns are : 24\n",
      "Number of rows are 51290\n"
     ]
    }
   ],
   "source": [
    "shape = store_data.shape\n",
    "print(\"Number of columns are : {}\".format(shape[1]))\n",
    "print(\"Number of rows are {}\".format(shape[0]))"
   ]
  },
  {
   "cell_type": "markdown",
   "id": "fbdfcde4-5000-4d1c-bd0b-0a088a7fce45",
   "metadata": {},
   "source": [
    "# detailed info the dataset"
   ]
  },
  {
   "cell_type": "code",
   "execution_count": 31,
   "id": "04737355-a892-4e86-ba67-b11886a1945d",
   "metadata": {},
   "outputs": [
    {
     "name": "stdout",
     "output_type": "stream",
     "text": [
      "<class 'pandas.core.frame.DataFrame'>\n",
      "RangeIndex: 51290 entries, 0 to 51289\n",
      "Data columns (total 24 columns):\n",
      " #   Column          Non-Null Count  Dtype  \n",
      "---  ------          --------------  -----  \n",
      " 0   Row ID          51290 non-null  int64  \n",
      " 1   Order ID        51290 non-null  object \n",
      " 2   Order Date      51290 non-null  object \n",
      " 3   Ship Date       51290 non-null  object \n",
      " 4   Ship Mode       51290 non-null  object \n",
      " 5   Customer ID     51290 non-null  object \n",
      " 6   Customer Name   51290 non-null  object \n",
      " 7   Segment         51290 non-null  object \n",
      " 8   City            51290 non-null  object \n",
      " 9   State           51290 non-null  object \n",
      " 10  Country         51290 non-null  object \n",
      " 11  Postal Code     9994 non-null   float64\n",
      " 12  Market          51290 non-null  object \n",
      " 13  Region          51290 non-null  object \n",
      " 14  Product ID      51290 non-null  object \n",
      " 15  Category        51290 non-null  object \n",
      " 16  Sub-Category    51290 non-null  object \n",
      " 17  Product Name    51290 non-null  object \n",
      " 18  Sales           51290 non-null  float64\n",
      " 19  Quantity        51290 non-null  int64  \n",
      " 20  Discount        51290 non-null  float64\n",
      " 21  Profit          51290 non-null  float64\n",
      " 22  Shipping Cost   51290 non-null  float64\n",
      " 23  Order Priority  51290 non-null  object \n",
      "dtypes: float64(5), int64(2), object(17)\n",
      "memory usage: 9.4+ MB\n"
     ]
    }
   ],
   "source": [
    "store_data.info()"
   ]
  },
  {
   "cell_type": "markdown",
   "id": "f91cd278-fd2b-4ffa-98b1-5920b2823383",
   "metadata": {},
   "source": [
    "# check for duplicated values and drop them"
   ]
  },
  {
   "cell_type": "code",
   "execution_count": 34,
   "id": "daece646-adcb-4923-811c-dd495902ed1e",
   "metadata": {},
   "outputs": [
    {
     "data": {
      "text/plain": [
       "False"
      ]
     },
     "execution_count": 34,
     "metadata": {},
     "output_type": "execute_result"
    }
   ],
   "source": [
    "store_data.duplicated().any()"
   ]
  },
  {
   "cell_type": "markdown",
   "id": "88b2b0b1-1aff-465a-84ca-8019a79d3a1c",
   "metadata": {},
   "source": [
    "# Get overall statistics of the dataset"
   ]
  },
  {
   "cell_type": "code",
   "execution_count": 37,
   "id": "9e732b65-5ac3-447a-98dd-57cfdcbc1400",
   "metadata": {},
   "outputs": [
    {
     "data": {
      "text/html": [
       "<div>\n",
       "<style scoped>\n",
       "    .dataframe tbody tr th:only-of-type {\n",
       "        vertical-align: middle;\n",
       "    }\n",
       "\n",
       "    .dataframe tbody tr th {\n",
       "        vertical-align: top;\n",
       "    }\n",
       "\n",
       "    .dataframe thead th {\n",
       "        text-align: right;\n",
       "    }\n",
       "</style>\n",
       "<table border=\"1\" class=\"dataframe\">\n",
       "  <thead>\n",
       "    <tr style=\"text-align: right;\">\n",
       "      <th></th>\n",
       "      <th>Row ID</th>\n",
       "      <th>Postal Code</th>\n",
       "      <th>Sales</th>\n",
       "      <th>Quantity</th>\n",
       "      <th>Discount</th>\n",
       "      <th>Profit</th>\n",
       "      <th>Shipping Cost</th>\n",
       "    </tr>\n",
       "  </thead>\n",
       "  <tbody>\n",
       "    <tr>\n",
       "      <th>count</th>\n",
       "      <td>51290.000</td>\n",
       "      <td>9994.000</td>\n",
       "      <td>51290.000</td>\n",
       "      <td>51290.000</td>\n",
       "      <td>51290.000</td>\n",
       "      <td>51290.000</td>\n",
       "      <td>51290.000</td>\n",
       "    </tr>\n",
       "    <tr>\n",
       "      <th>mean</th>\n",
       "      <td>25645.500</td>\n",
       "      <td>55190.379</td>\n",
       "      <td>246.491</td>\n",
       "      <td>3.477</td>\n",
       "      <td>0.143</td>\n",
       "      <td>28.611</td>\n",
       "      <td>26.376</td>\n",
       "    </tr>\n",
       "    <tr>\n",
       "      <th>std</th>\n",
       "      <td>14806.292</td>\n",
       "      <td>32063.693</td>\n",
       "      <td>487.565</td>\n",
       "      <td>2.279</td>\n",
       "      <td>0.212</td>\n",
       "      <td>174.341</td>\n",
       "      <td>57.297</td>\n",
       "    </tr>\n",
       "    <tr>\n",
       "      <th>min</th>\n",
       "      <td>1.000</td>\n",
       "      <td>1040.000</td>\n",
       "      <td>0.444</td>\n",
       "      <td>1.000</td>\n",
       "      <td>0.000</td>\n",
       "      <td>-6599.978</td>\n",
       "      <td>0.000</td>\n",
       "    </tr>\n",
       "    <tr>\n",
       "      <th>25%</th>\n",
       "      <td>12823.250</td>\n",
       "      <td>23223.000</td>\n",
       "      <td>30.759</td>\n",
       "      <td>2.000</td>\n",
       "      <td>0.000</td>\n",
       "      <td>0.000</td>\n",
       "      <td>2.610</td>\n",
       "    </tr>\n",
       "    <tr>\n",
       "      <th>50%</th>\n",
       "      <td>25645.500</td>\n",
       "      <td>56430.500</td>\n",
       "      <td>85.053</td>\n",
       "      <td>3.000</td>\n",
       "      <td>0.000</td>\n",
       "      <td>9.240</td>\n",
       "      <td>7.790</td>\n",
       "    </tr>\n",
       "    <tr>\n",
       "      <th>75%</th>\n",
       "      <td>38467.750</td>\n",
       "      <td>90008.000</td>\n",
       "      <td>251.053</td>\n",
       "      <td>5.000</td>\n",
       "      <td>0.200</td>\n",
       "      <td>36.810</td>\n",
       "      <td>24.450</td>\n",
       "    </tr>\n",
       "    <tr>\n",
       "      <th>max</th>\n",
       "      <td>51290.000</td>\n",
       "      <td>99301.000</td>\n",
       "      <td>22638.480</td>\n",
       "      <td>14.000</td>\n",
       "      <td>0.850</td>\n",
       "      <td>8399.976</td>\n",
       "      <td>933.570</td>\n",
       "    </tr>\n",
       "  </tbody>\n",
       "</table>\n",
       "</div>"
      ],
      "text/plain": [
       "         Row ID  Postal Code     Sales  Quantity  Discount    Profit  \\\n",
       "count 51290.000     9994.000 51290.000 51290.000 51290.000 51290.000   \n",
       "mean  25645.500    55190.379   246.491     3.477     0.143    28.611   \n",
       "std   14806.292    32063.693   487.565     2.279     0.212   174.341   \n",
       "min       1.000     1040.000     0.444     1.000     0.000 -6599.978   \n",
       "25%   12823.250    23223.000    30.759     2.000     0.000     0.000   \n",
       "50%   25645.500    56430.500    85.053     3.000     0.000     9.240   \n",
       "75%   38467.750    90008.000   251.053     5.000     0.200    36.810   \n",
       "max   51290.000    99301.000 22638.480    14.000     0.850  8399.976   \n",
       "\n",
       "       Shipping Cost  \n",
       "count      51290.000  \n",
       "mean          26.376  \n",
       "std           57.297  \n",
       "min            0.000  \n",
       "25%            2.610  \n",
       "50%            7.790  \n",
       "75%           24.450  \n",
       "max          933.570  "
      ]
     },
     "execution_count": 37,
     "metadata": {},
     "output_type": "execute_result"
    }
   ],
   "source": [
    "store_data.describe()"
   ]
  },
  {
   "cell_type": "markdown",
   "id": "55c2ebd6-8fb7-4af3-b0a7-428d617bada8",
   "metadata": {},
   "source": [
    "# drop unnecessary columns "
   ]
  },
  {
   "cell_type": "code",
   "execution_count": 40,
   "id": "6cf56d9f-2324-4b58-9269-13af84063211",
   "metadata": {},
   "outputs": [
    {
     "data": {
      "text/plain": [
       "Index(['Row ID', 'Order ID', 'Order Date', 'Ship Date', 'Ship Mode',\n",
       "       'Customer ID', 'Customer Name', 'Segment', 'City', 'State', 'Country',\n",
       "       'Postal Code', 'Market', 'Region', 'Product ID', 'Category',\n",
       "       'Sub-Category', 'Product Name', 'Sales', 'Quantity', 'Discount',\n",
       "       'Profit', 'Shipping Cost', 'Order Priority'],\n",
       "      dtype='object')"
      ]
     },
     "execution_count": 40,
     "metadata": {},
     "output_type": "execute_result"
    }
   ],
   "source": [
    "store_data.columns"
   ]
  },
  {
   "cell_type": "code",
   "execution_count": 42,
   "id": "ebe7466e-ab48-4ab8-91eb-2acd60a48342",
   "metadata": {},
   "outputs": [],
   "source": [
    "store_data = store_data.drop(columns = [\"Row ID\",\"Order ID\",\"Postal Code\"],axis =1)"
   ]
  },
  {
   "cell_type": "code",
   "execution_count": 44,
   "id": "2f9d8192-1196-4160-9e1b-8f8ce826df7c",
   "metadata": {},
   "outputs": [
    {
     "data": {
      "text/plain": [
       "Index(['Order Date', 'Ship Date', 'Ship Mode', 'Customer ID', 'Customer Name',\n",
       "       'Segment', 'City', 'State', 'Country', 'Market', 'Region', 'Product ID',\n",
       "       'Category', 'Sub-Category', 'Product Name', 'Sales', 'Quantity',\n",
       "       'Discount', 'Profit', 'Shipping Cost', 'Order Priority'],\n",
       "      dtype='object')"
      ]
     },
     "execution_count": 44,
     "metadata": {},
     "output_type": "execute_result"
    }
   ],
   "source": [
    "store_data.columns"
   ]
  },
  {
   "cell_type": "markdown",
   "id": "cae3366e-f76f-4366-9532-20f2c259921a",
   "metadata": {},
   "source": [
    "# Hypothesis 1 - Technology products having higher profit margin as compare to other products"
   ]
  },
  {
   "cell_type": "code",
   "execution_count": 56,
   "id": "2aab20b7-5a66-4781-a0c9-3a212f0b62d7",
   "metadata": {},
   "outputs": [],
   "source": [
    "cat_data = store_data.groupby([\"Category\"]).agg({\"Profit\":\"sum\"})"
   ]
  },
  {
   "cell_type": "code",
   "execution_count": 60,
   "id": "a57080ae-ce97-40da-aeec-010c83751160",
   "metadata": {},
   "outputs": [],
   "source": [
    "cat_data[\"Profit\"] = round(cat_data[\"Profit\"])"
   ]
  },
  {
   "cell_type": "code",
   "execution_count": 62,
   "id": "09496d75-3b69-47de-8b63-d420be2717f2",
   "metadata": {},
   "outputs": [
    {
     "data": {
      "text/html": [
       "<div>\n",
       "<style scoped>\n",
       "    .dataframe tbody tr th:only-of-type {\n",
       "        vertical-align: middle;\n",
       "    }\n",
       "\n",
       "    .dataframe tbody tr th {\n",
       "        vertical-align: top;\n",
       "    }\n",
       "\n",
       "    .dataframe thead th {\n",
       "        text-align: right;\n",
       "    }\n",
       "</style>\n",
       "<table border=\"1\" class=\"dataframe\">\n",
       "  <thead>\n",
       "    <tr style=\"text-align: right;\">\n",
       "      <th></th>\n",
       "      <th>Profit</th>\n",
       "    </tr>\n",
       "    <tr>\n",
       "      <th>Category</th>\n",
       "      <th></th>\n",
       "    </tr>\n",
       "  </thead>\n",
       "  <tbody>\n",
       "    <tr>\n",
       "      <th>Furniture</th>\n",
       "      <td>285205.000</td>\n",
       "    </tr>\n",
       "    <tr>\n",
       "      <th>Office Supplies</th>\n",
       "      <td>518474.000</td>\n",
       "    </tr>\n",
       "    <tr>\n",
       "      <th>Technology</th>\n",
       "      <td>663779.000</td>\n",
       "    </tr>\n",
       "  </tbody>\n",
       "</table>\n",
       "</div>"
      ],
      "text/plain": [
       "                    Profit\n",
       "Category                  \n",
       "Furniture       285205.000\n",
       "Office Supplies 518474.000\n",
       "Technology      663779.000"
      ]
     },
     "execution_count": 62,
     "metadata": {},
     "output_type": "execute_result"
    }
   ],
   "source": [
    "cat_data"
   ]
  },
  {
   "cell_type": "code",
   "execution_count": 66,
   "id": "36b4e14b-b7d4-44eb-942c-be7ac59fd37d",
   "metadata": {},
   "outputs": [],
   "source": [
    "import seaborn as sns"
   ]
  },
  {
   "cell_type": "code",
   "execution_count": 80,
   "id": "8fa5629e-e250-4437-9b0e-20a1b9240f9f",
   "metadata": {},
   "outputs": [
    {
     "name": "stderr",
     "output_type": "stream",
     "text": [
      "C:\\Users\\Administrator\\AppData\\Local\\Temp\\ipykernel_16008\\609692236.py:2: FutureWarning: \n",
      "\n",
      "Passing `palette` without assigning `hue` is deprecated and will be removed in v0.14.0. Assign the `y` variable to `hue` and set `legend=False` for the same effect.\n",
      "\n",
      "  ax=  sns.barplot(data = cat_data,y=\"Category\",x=\"Profit\",palette =\"mako\")\n"
     ]
    },
    {
     "data": {
      "image/png": "[encoded data removed]",
      "text/plain": [
       "<Figure size 1000x700 with 1 Axes>"
      ]
     },
     "metadata": {},
     "output_type": "display_data"
    }
   ],
   "source": [
    "plt.figure(figsize=(10,7))\n",
    "ax=  sns.barplot(data = cat_data,y=\"Category\",x=\"Profit\",palette =\"mako\")\n",
    "for x in ax.containers :\n",
    "    ax.bar_label(x)\n",
    "plt.title(\"Profit By Category Distribution\")\n",
    "plt.show()"
   ]
  },
  {
   "cell_type": "markdown",
   "id": "0183e07e-5fd3-4ae8-9160-6a6160e4cf5d",
   "metadata": {},
   "source": [
    "Hence Hypothesis is supported as technology products having highest profit as compare to other products category"
   ]
  },
  {
   "cell_type": "markdown",
   "id": "564eb91a-6a0b-45d2-80e8-f7b140fadc43",
   "metadata": {},
   "source": [
    "# Hypothesis 2- the east region is having higher sales as compare to other regions"
   ]
  },
  {
   "cell_type": "code",
   "execution_count": 84,
   "id": "183444e8-e764-4120-9d87-735f7d9153fe",
   "metadata": {},
   "outputs": [
    {
     "data": {
      "text/plain": [
       "Index(['Order Date', 'Ship Date', 'Ship Mode', 'Customer ID', 'Customer Name',\n",
       "       'Segment', 'City', 'State', 'Country', 'Market', 'Region', 'Product ID',\n",
       "       'Category', 'Sub-Category', 'Product Name', 'Sales', 'Quantity',\n",
       "       'Discount', 'Profit', 'Shipping Cost', 'Order Priority'],\n",
       "      dtype='object')"
      ]
     },
     "execution_count": 84,
     "metadata": {},
     "output_type": "execute_result"
    }
   ],
   "source": [
    "store_data.columns"
   ]
  },
  {
   "cell_type": "code",
   "execution_count": 88,
   "id": "33ba62e6-f987-43dd-a714-95c554edc956",
   "metadata": {},
   "outputs": [],
   "source": [
    "region_sales = store_data.groupby([\"Region\"]).agg({\"Sales\":\"sum\"}).sort_values(by=\"Sales\",ascending = False)"
   ]
  },
  {
   "cell_type": "code",
   "execution_count": 90,
   "id": "7b370c1b-8d7e-4d6a-a027-1ffd02537590",
   "metadata": {},
   "outputs": [
    {
     "data": {
      "text/html": [
       "<div>\n",
       "<style scoped>\n",
       "    .dataframe tbody tr th:only-of-type {\n",
       "        vertical-align: middle;\n",
       "    }\n",
       "\n",
       "    .dataframe tbody tr th {\n",
       "        vertical-align: top;\n",
       "    }\n",
       "\n",
       "    .dataframe thead th {\n",
       "        text-align: right;\n",
       "    }\n",
       "</style>\n",
       "<table border=\"1\" class=\"dataframe\">\n",
       "  <thead>\n",
       "    <tr style=\"text-align: right;\">\n",
       "      <th></th>\n",
       "      <th>Sales</th>\n",
       "    </tr>\n",
       "    <tr>\n",
       "      <th>Region</th>\n",
       "      <th></th>\n",
       "    </tr>\n",
       "  </thead>\n",
       "  <tbody>\n",
       "    <tr>\n",
       "      <th>Central</th>\n",
       "      <td>2822302.520</td>\n",
       "    </tr>\n",
       "    <tr>\n",
       "      <th>South</th>\n",
       "      <td>1600907.041</td>\n",
       "    </tr>\n",
       "    <tr>\n",
       "      <th>North</th>\n",
       "      <td>1248165.603</td>\n",
       "    </tr>\n",
       "    <tr>\n",
       "      <th>Oceania</th>\n",
       "      <td>1100184.612</td>\n",
       "    </tr>\n",
       "    <tr>\n",
       "      <th>Southeast Asia</th>\n",
       "      <td>884423.169</td>\n",
       "    </tr>\n",
       "    <tr>\n",
       "      <th>North Asia</th>\n",
       "      <td>848309.781</td>\n",
       "    </tr>\n",
       "    <tr>\n",
       "      <th>EMEA</th>\n",
       "      <td>806161.311</td>\n",
       "    </tr>\n",
       "    <tr>\n",
       "      <th>Africa</th>\n",
       "      <td>783773.211</td>\n",
       "    </tr>\n",
       "    <tr>\n",
       "      <th>Central Asia</th>\n",
       "      <td>752826.567</td>\n",
       "    </tr>\n",
       "    <tr>\n",
       "      <th>West</th>\n",
       "      <td>725457.824</td>\n",
       "    </tr>\n",
       "    <tr>\n",
       "      <th>East</th>\n",
       "      <td>678781.240</td>\n",
       "    </tr>\n",
       "    <tr>\n",
       "      <th>Caribbean</th>\n",
       "      <td>324280.861</td>\n",
       "    </tr>\n",
       "    <tr>\n",
       "      <th>Canada</th>\n",
       "      <td>66928.170</td>\n",
       "    </tr>\n",
       "  </tbody>\n",
       "</table>\n",
       "</div>"
      ],
      "text/plain": [
       "                     Sales\n",
       "Region                    \n",
       "Central        2822302.520\n",
       "South          1600907.041\n",
       "North          1248165.603\n",
       "Oceania        1100184.612\n",
       "Southeast Asia  884423.169\n",
       "North Asia      848309.781\n",
       "EMEA            806161.311\n",
       "Africa          783773.211\n",
       "Central Asia    752826.567\n",
       "West            725457.824\n",
       "East            678781.240\n",
       "Caribbean       324280.861\n",
       "Canada           66928.170"
      ]
     },
     "execution_count": 90,
     "metadata": {},
     "output_type": "execute_result"
    }
   ],
   "source": [
    "region_sales"
   ]
  },
  {
   "cell_type": "code",
   "execution_count": 100,
   "id": "2c826683-bb96-4e35-a522-9a7358ce7576",
   "metadata": {},
   "outputs": [
    {
     "data": {
      "text/plain": [
       "array(['Africa', 'Oceania', 'EMEA', 'North', 'Central Asia', 'West',\n",
       "       'North Asia', 'Central', 'South', 'Canada', 'Southeast Asia',\n",
       "       'East', 'Caribbean'], dtype=object)"
      ]
     },
     "execution_count": 100,
     "metadata": {},
     "output_type": "execute_result"
    }
   ],
   "source": [
    "store_data[\"Region\"].unique()"
   ]
  },
  {
   "cell_type": "code",
   "execution_count": 106,
   "id": "9dc6445d-59b1-4a29-8f89-7b8fea759cd7",
   "metadata": {},
   "outputs": [
    {
     "name": "stderr",
     "output_type": "stream",
     "text": [
      "C:\\Users\\Administrator\\AppData\\Local\\Temp\\ipykernel_16008\\3830767265.py:5: FutureWarning: \n",
      "\n",
      "Passing `palette` without assigning `hue` is deprecated and will be removed in v0.14.0. Assign the `x` variable to `hue` and set `legend=False` for the same effect.\n",
      "\n",
      "  ax_1 = sns.barplot(data= region_sales,x=\"Region\",y=\"Sales\",order=order,palette=\"plasma\")\n"
     ]
    },
    {
     "data": {
      "image/png": "[encoded data removed]",
      "text/plain": [
       "<Figure size 2000x600 with 1 Axes>"
      ]
     },
     "metadata": {},
     "output_type": "display_data"
    }
   ],
   "source": [
    "plt.figure(figsize = (20,6))\n",
    "order = [ 'East','Africa', 'Oceania', 'EMEA', 'North', 'Central Asia', 'West',\n",
    "       'North Asia', 'Central', 'South', 'Canada', 'Southeast Asia',\n",
    "       'Caribbean']\n",
    "ax_1 = sns.barplot(data= region_sales,x=\"Region\",y=\"Sales\",order=order,palette=\"plasma\")\n",
    "for x in ax_1.containers:\n",
    "    ax_1.bar_label(x)\n",
    "plt.title(\"Sales Distribution Across Regions\")\n",
    "plt.show()"
   ]
  },
  {
   "cell_type": "markdown",
   "id": "3d5ac957-64fa-4be2-b1d6-e141d25d2d7a",
   "metadata": {},
   "source": [
    "Conclusion - Hypothesis is not supported as the central region having higher sales as compare to othe regions"
   ]
  },
  {
   "cell_type": "markdown",
   "id": "c807399d-015f-4c59-9a5b-88127b7e57f3",
   "metadata": {},
   "source": [
    "# Hypothesis 3 - Sales are higher during the certain months of the year"
   ]
  },
  {
   "cell_type": "code",
   "execution_count": 110,
   "id": "ae4c359f-6fcb-4aec-8be6-ce162d30853a",
   "metadata": {},
   "outputs": [
    {
     "data": {
      "text/plain": [
       "Index(['Order Date', 'Ship Date', 'Ship Mode', 'Customer ID', 'Customer Name',\n",
       "       'Segment', 'City', 'State', 'Country', 'Market', 'Region', 'Product ID',\n",
       "       'Category', 'Sub-Category', 'Product Name', 'Sales', 'Quantity',\n",
       "       'Discount', 'Profit', 'Shipping Cost', 'Order Priority'],\n",
       "      dtype='object')"
      ]
     },
     "execution_count": 110,
     "metadata": {},
     "output_type": "execute_result"
    }
   ],
   "source": [
    "store_data.columns"
   ]
  },
  {
   "cell_type": "code",
   "execution_count": 114,
   "id": "d08029de-ef7b-4eb0-a15d-70ae62319a9f",
   "metadata": {},
   "outputs": [],
   "source": [
    "store_data[\"Order Month\"] = pd.DatetimeIndex(store_data[\"Order Date\"]).month"
   ]
  },
  {
   "cell_type": "code",
   "execution_count": 116,
   "id": "975632dd-ee19-46d7-bc6a-4474ca7060f7",
   "metadata": {},
   "outputs": [
    {
     "data": {
      "text/html": [
       "<div>\n",
       "<style scoped>\n",
       "    .dataframe tbody tr th:only-of-type {\n",
       "        vertical-align: middle;\n",
       "    }\n",
       "\n",
       "    .dataframe tbody tr th {\n",
       "        vertical-align: top;\n",
       "    }\n",
       "\n",
       "    .dataframe thead th {\n",
       "        text-align: right;\n",
       "    }\n",
       "</style>\n",
       "<table border=\"1\" class=\"dataframe\">\n",
       "  <thead>\n",
       "    <tr style=\"text-align: right;\">\n",
       "      <th></th>\n",
       "      <th>Order Date</th>\n",
       "      <th>Ship Date</th>\n",
       "      <th>Ship Mode</th>\n",
       "      <th>Customer ID</th>\n",
       "      <th>Customer Name</th>\n",
       "      <th>Segment</th>\n",
       "      <th>City</th>\n",
       "      <th>State</th>\n",
       "      <th>Country</th>\n",
       "      <th>Market</th>\n",
       "      <th>...</th>\n",
       "      <th>Category</th>\n",
       "      <th>Sub-Category</th>\n",
       "      <th>Product Name</th>\n",
       "      <th>Sales</th>\n",
       "      <th>Quantity</th>\n",
       "      <th>Discount</th>\n",
       "      <th>Profit</th>\n",
       "      <th>Shipping Cost</th>\n",
       "      <th>Order Priority</th>\n",
       "      <th>Order Month</th>\n",
       "    </tr>\n",
       "  </thead>\n",
       "  <tbody>\n",
       "    <tr>\n",
       "      <th>0</th>\n",
       "      <td>1/1/2011</td>\n",
       "      <td>6/1/2011</td>\n",
       "      <td>Standard Class</td>\n",
       "      <td>TB-11280</td>\n",
       "      <td>Toby Braunhardt</td>\n",
       "      <td>Consumer</td>\n",
       "      <td>Constantine</td>\n",
       "      <td>Constantine</td>\n",
       "      <td>Algeria</td>\n",
       "      <td>Africa</td>\n",
       "      <td>...</td>\n",
       "      <td>Office Supplies</td>\n",
       "      <td>Storage</td>\n",
       "      <td>Tenex Lockers, Blue</td>\n",
       "      <td>408.300</td>\n",
       "      <td>2</td>\n",
       "      <td>0.000</td>\n",
       "      <td>106.140</td>\n",
       "      <td>35.460</td>\n",
       "      <td>Medium</td>\n",
       "      <td>1</td>\n",
       "    </tr>\n",
       "    <tr>\n",
       "      <th>1</th>\n",
       "      <td>1/1/2011</td>\n",
       "      <td>8/1/2011</td>\n",
       "      <td>Standard Class</td>\n",
       "      <td>JH-15985</td>\n",
       "      <td>Joseph Holt</td>\n",
       "      <td>Consumer</td>\n",
       "      <td>Wagga Wagga</td>\n",
       "      <td>New South Wales</td>\n",
       "      <td>Australia</td>\n",
       "      <td>APAC</td>\n",
       "      <td>...</td>\n",
       "      <td>Office Supplies</td>\n",
       "      <td>Supplies</td>\n",
       "      <td>Acme Trimmer, High Speed</td>\n",
       "      <td>120.366</td>\n",
       "      <td>3</td>\n",
       "      <td>0.100</td>\n",
       "      <td>36.036</td>\n",
       "      <td>9.720</td>\n",
       "      <td>Medium</td>\n",
       "      <td>1</td>\n",
       "    </tr>\n",
       "    <tr>\n",
       "      <th>2</th>\n",
       "      <td>1/1/2011</td>\n",
       "      <td>5/1/2011</td>\n",
       "      <td>Second Class</td>\n",
       "      <td>AT-735</td>\n",
       "      <td>Annie Thurman</td>\n",
       "      <td>Consumer</td>\n",
       "      <td>Budapest</td>\n",
       "      <td>Budapest</td>\n",
       "      <td>Hungary</td>\n",
       "      <td>EMEA</td>\n",
       "      <td>...</td>\n",
       "      <td>Office Supplies</td>\n",
       "      <td>Storage</td>\n",
       "      <td>Tenex Box, Single Width</td>\n",
       "      <td>66.120</td>\n",
       "      <td>4</td>\n",
       "      <td>0.000</td>\n",
       "      <td>29.640</td>\n",
       "      <td>8.170</td>\n",
       "      <td>High</td>\n",
       "      <td>1</td>\n",
       "    </tr>\n",
       "    <tr>\n",
       "      <th>3</th>\n",
       "      <td>1/1/2011</td>\n",
       "      <td>5/1/2011</td>\n",
       "      <td>Second Class</td>\n",
       "      <td>EM-14140</td>\n",
       "      <td>Eugene Moren</td>\n",
       "      <td>Home Office</td>\n",
       "      <td>Stockholm</td>\n",
       "      <td>Stockholm</td>\n",
       "      <td>Sweden</td>\n",
       "      <td>EU</td>\n",
       "      <td>...</td>\n",
       "      <td>Office Supplies</td>\n",
       "      <td>Paper</td>\n",
       "      <td>Enermax Note Cards, Premium</td>\n",
       "      <td>44.865</td>\n",
       "      <td>3</td>\n",
       "      <td>0.500</td>\n",
       "      <td>-26.055</td>\n",
       "      <td>4.820</td>\n",
       "      <td>High</td>\n",
       "      <td>1</td>\n",
       "    </tr>\n",
       "    <tr>\n",
       "      <th>4</th>\n",
       "      <td>1/1/2011</td>\n",
       "      <td>8/1/2011</td>\n",
       "      <td>Standard Class</td>\n",
       "      <td>JH-15985</td>\n",
       "      <td>Joseph Holt</td>\n",
       "      <td>Consumer</td>\n",
       "      <td>Wagga Wagga</td>\n",
       "      <td>New South Wales</td>\n",
       "      <td>Australia</td>\n",
       "      <td>APAC</td>\n",
       "      <td>...</td>\n",
       "      <td>Furniture</td>\n",
       "      <td>Furnishings</td>\n",
       "      <td>Eldon Light Bulb, Duo Pack</td>\n",
       "      <td>113.670</td>\n",
       "      <td>5</td>\n",
       "      <td>0.100</td>\n",
       "      <td>37.770</td>\n",
       "      <td>4.700</td>\n",
       "      <td>Medium</td>\n",
       "      <td>1</td>\n",
       "    </tr>\n",
       "  </tbody>\n",
       "</table>\n",
       "<p>5 rows × 22 columns</p>\n",
       "</div>"
      ],
      "text/plain": [
       "  Order Date Ship Date       Ship Mode Customer ID    Customer Name  \\\n",
       "0   1/1/2011  6/1/2011  Standard Class    TB-11280  Toby Braunhardt   \n",
       "1   1/1/2011  8/1/2011  Standard Class    JH-15985      Joseph Holt   \n",
       "2   1/1/2011  5/1/2011    Second Class      AT-735    Annie Thurman   \n",
       "3   1/1/2011  5/1/2011    Second Class    EM-14140     Eugene Moren   \n",
       "4   1/1/2011  8/1/2011  Standard Class    JH-15985      Joseph Holt   \n",
       "\n",
       "       Segment         City            State    Country  Market  ...  \\\n",
       "0     Consumer  Constantine      Constantine    Algeria  Africa  ...   \n",
       "1     Consumer  Wagga Wagga  New South Wales  Australia    APAC  ...   \n",
       "2     Consumer     Budapest         Budapest    Hungary    EMEA  ...   \n",
       "3  Home Office    Stockholm        Stockholm     Sweden      EU  ...   \n",
       "4     Consumer  Wagga Wagga  New South Wales  Australia    APAC  ...   \n",
       "\n",
       "          Category Sub-Category                 Product Name   Sales Quantity  \\\n",
       "0  Office Supplies      Storage          Tenex Lockers, Blue 408.300        2   \n",
       "1  Office Supplies     Supplies     Acme Trimmer, High Speed 120.366        3   \n",
       "2  Office Supplies      Storage      Tenex Box, Single Width  66.120        4   \n",
       "3  Office Supplies        Paper  Enermax Note Cards, Premium  44.865        3   \n",
       "4        Furniture  Furnishings   Eldon Light Bulb, Duo Pack 113.670        5   \n",
       "\n",
       "   Discount  Profit  Shipping Cost  Order Priority  Order Month  \n",
       "0     0.000 106.140         35.460          Medium            1  \n",
       "1     0.100  36.036          9.720          Medium            1  \n",
       "2     0.000  29.640          8.170            High            1  \n",
       "3     0.500 -26.055          4.820            High            1  \n",
       "4     0.100  37.770          4.700          Medium            1  \n",
       "\n",
       "[5 rows x 22 columns]"
      ]
     },
     "execution_count": 116,
     "metadata": {},
     "output_type": "execute_result"
    }
   ],
   "source": [
    "store_data.head()"
   ]
  },
  {
   "cell_type": "code",
   "execution_count": 118,
   "id": "9dd6e8ff-9168-42ad-8e3f-d2254006acb8",
   "metadata": {},
   "outputs": [],
   "source": [
    "monthly_sales = store_data.groupby([\"Order Month\"]).agg({\"Sales\":\"sum\"})"
   ]
  },
  {
   "cell_type": "code",
   "execution_count": 120,
   "id": "0a0535c2-606a-4989-9488-967365b8f03f",
   "metadata": {},
   "outputs": [],
   "source": [
    "monthly_sales[\"Sales\"] = round(monthly_sales[\"Sales\"],2)"
   ]
  },
  {
   "cell_type": "code",
   "execution_count": 122,
   "id": "0f97c6e8-68e7-4778-b53a-987ae8cb3e17",
   "metadata": {},
   "outputs": [
    {
     "data": {
      "text/html": [
       "<div>\n",
       "<style scoped>\n",
       "    .dataframe tbody tr th:only-of-type {\n",
       "        vertical-align: middle;\n",
       "    }\n",
       "\n",
       "    .dataframe tbody tr th {\n",
       "        vertical-align: top;\n",
       "    }\n",
       "\n",
       "    .dataframe thead th {\n",
       "        text-align: right;\n",
       "    }\n",
       "</style>\n",
       "<table border=\"1\" class=\"dataframe\">\n",
       "  <thead>\n",
       "    <tr style=\"text-align: right;\">\n",
       "      <th></th>\n",
       "      <th>Sales</th>\n",
       "    </tr>\n",
       "    <tr>\n",
       "      <th>Order Month</th>\n",
       "      <th></th>\n",
       "    </tr>\n",
       "  </thead>\n",
       "  <tbody>\n",
       "    <tr>\n",
       "      <th>1</th>\n",
       "      <td>775766.910</td>\n",
       "    </tr>\n",
       "    <tr>\n",
       "      <th>2</th>\n",
       "      <td>722853.170</td>\n",
       "    </tr>\n",
       "    <tr>\n",
       "      <th>3</th>\n",
       "      <td>951333.080</td>\n",
       "    </tr>\n",
       "    <tr>\n",
       "      <th>4</th>\n",
       "      <td>851617.320</td>\n",
       "    </tr>\n",
       "    <tr>\n",
       "      <th>5</th>\n",
       "      <td>976415.680</td>\n",
       "    </tr>\n",
       "    <tr>\n",
       "      <th>6</th>\n",
       "      <td>1152367.790</td>\n",
       "    </tr>\n",
       "    <tr>\n",
       "      <th>7</th>\n",
       "      <td>838743.560</td>\n",
       "    </tr>\n",
       "    <tr>\n",
       "      <th>8</th>\n",
       "      <td>1247500.810</td>\n",
       "    </tr>\n",
       "    <tr>\n",
       "      <th>9</th>\n",
       "      <td>1244139.730</td>\n",
       "    </tr>\n",
       "    <tr>\n",
       "      <th>10</th>\n",
       "      <td>1120777.470</td>\n",
       "    </tr>\n",
       "    <tr>\n",
       "      <th>11</th>\n",
       "      <td>1377651.290</td>\n",
       "    </tr>\n",
       "    <tr>\n",
       "      <th>12</th>\n",
       "      <td>1383335.110</td>\n",
       "    </tr>\n",
       "  </tbody>\n",
       "</table>\n",
       "</div>"
      ],
      "text/plain": [
       "                  Sales\n",
       "Order Month            \n",
       "1            775766.910\n",
       "2            722853.170\n",
       "3            951333.080\n",
       "4            851617.320\n",
       "5            976415.680\n",
       "6           1152367.790\n",
       "7            838743.560\n",
       "8           1247500.810\n",
       "9           1244139.730\n",
       "10          1120777.470\n",
       "11          1377651.290\n",
       "12          1383335.110"
      ]
     },
     "execution_count": 122,
     "metadata": {},
     "output_type": "execute_result"
    }
   ],
   "source": [
    "monthly_sales"
   ]
  },
  {
   "cell_type": "code",
   "execution_count": 144,
   "id": "e1e79523-bdc6-4412-85ab-7c41a5e6411d",
   "metadata": {},
   "outputs": [
    {
     "data": {
      "image/png": "[encoded data removed]",
      "text/plain": [
       "<Figure size 1300x500 with 1 Axes>"
      ]
     },
     "metadata": {},
     "output_type": "display_data"
    }
   ],
   "source": [
    "sns.set_style(\"darkgrid\", {\"grid.color\": \".6\", \"grid.linestyle\": \":\"})\n",
    "plt.figure(figsize= (13,5))\n",
    "sns.lineplot(data = monthly_sales,markers=\"o\",palette = \"husl\")\n",
    "plt.title(\"Sales Distribution Trend line\")\n",
    "plt.show()"
   ]
  },
  {
   "cell_type": "markdown",
   "id": "f354b627-51f2-4c34-bd15-a81bfcc72a61",
   "metadata": {},
   "source": [
    "Conclusion - Hypothesis is supported as only for november and december having higher sales"
   ]
  },
  {
   "cell_type": "markdown",
   "id": "539a9baf-2d4b-422e-8a10-beb86dd3045d",
   "metadata": {},
   "source": [
    "# Hypothesis 4 - Orders with same day shipping having lowest rate of returned products"
   ]
  },
  {
   "cell_type": "code",
   "execution_count": 148,
   "id": "25af46c3-c2f0-4409-8697-62c621ec89a3",
   "metadata": {},
   "outputs": [
    {
     "data": {
      "text/plain": [
       "Index(['Order Date', 'Ship Date', 'Ship Mode', 'Customer ID', 'Customer Name',\n",
       "       'Segment', 'City', 'State', 'Country', 'Market', 'Region', 'Product ID',\n",
       "       'Category', 'Sub-Category', 'Product Name', 'Sales', 'Quantity',\n",
       "       'Discount', 'Profit', 'Shipping Cost', 'Order Priority', 'Order Month'],\n",
       "      dtype='object')"
      ]
     },
     "execution_count": 148,
     "metadata": {},
     "output_type": "execute_result"
    }
   ],
   "source": [
    "store_data.columns"
   ]
  },
  {
   "cell_type": "code",
   "execution_count": 150,
   "id": "28e16abb-d351-455f-9f9d-8c9c5512ded7",
   "metadata": {},
   "outputs": [
    {
     "data": {
      "text/plain": [
       "array(['Standard Class', 'Second Class', 'First Class', 'Same Day'],\n",
       "      dtype=object)"
      ]
     },
     "execution_count": 150,
     "metadata": {},
     "output_type": "execute_result"
    }
   ],
   "source": [
    "store_data[\"Ship Mode\"].unique()"
   ]
  },
  {
   "cell_type": "code",
   "execution_count": 152,
   "id": "52e00223-1b64-440e-b8b3-7c337ea35be1",
   "metadata": {},
   "outputs": [],
   "source": [
    "total_orders_by_shipping_mode = store_data.groupby(\"Ship Mode\").size()"
   ]
  },
  {
   "cell_type": "code",
   "execution_count": 162,
   "id": "a03b1a89-11f8-4969-9f94-ed29b0300998",
   "metadata": {},
   "outputs": [],
   "source": [
    "return_orders_shipping = store_data[store_data[\"Profit\"]<0].groupby(\"Ship Mode\").size()"
   ]
  },
  {
   "cell_type": "code",
   "execution_count": 164,
   "id": "dc9c681f-e128-47a6-b5c5-9556d6c743fd",
   "metadata": {},
   "outputs": [],
   "source": [
    "return_percentage=  (return_orders_shipping/total_orders_by_shipping_mode)*100"
   ]
  },
  {
   "cell_type": "code",
   "execution_count": 166,
   "id": "c3059e68-e925-418a-9bf2-b8078293f689",
   "metadata": {},
   "outputs": [
    {
     "name": "stdout",
     "output_type": "stream",
     "text": [
      "Ship Mode\n",
      "First Class      25.077\n",
      "Same Day         23.917\n",
      "Second Class     24.076\n",
      "Standard Class   24.481\n",
      "dtype: float64\n"
     ]
    }
   ],
   "source": [
    "print(return_percentage)"
   ]
  },
  {
   "cell_type": "code",
   "execution_count": 172,
   "id": "6ebc0912-9fc9-429a-8b8e-4b88e2e0dae9",
   "metadata": {},
   "outputs": [
    {
     "name": "stderr",
     "output_type": "stream",
     "text": [
      "C:\\Users\\Administrator\\AppData\\Local\\Temp\\ipykernel_16008\\1466493697.py:1: FutureWarning: \n",
      "\n",
      "Passing `palette` without assigning `hue` is deprecated and will be removed in v0.14.0. Assign the `x` variable to `hue` and set `legend=False` for the same effect.\n",
      "\n",
      "  ax_1 =  sns.barplot(data = return_percentage,palette =\"rocket\")\n"
     ]
    },
    {
     "data": {
      "image/png": "[encoded data removed]",
      "text/plain": [
       "<Figure size 640x480 with 1 Axes>"
      ]
     },
     "metadata": {},
     "output_type": "display_data"
    }
   ],
   "source": [
    "ax_1 =  sns.barplot(data = return_percentage,palette =\"rocket\")\n",
    "for x in ax_1.containers:\n",
    "    ax_1.bar_label(x)\n",
    "plt.ylabel(\"Return Percentage\")\n",
    "plt.title(\"Return value % distribution by Ship Mode\")\n",
    "plt.show()"
   ]
  },
  {
   "cell_type": "markdown",
   "id": "c93a0fee-eedb-4d0c-ab0e-24e06a6782b1",
   "metadata": {},
   "source": [
    "Conclusion - Hypothesis is supported as Same Day delivery ship mode having low Return %"
   ]
  },
  {
   "cell_type": "markdown",
   "id": "4d0b1cc3-732f-4bb2-a612-0070c3a7ec7b",
   "metadata": {},
   "source": [
    "# Hypothesis 5 - Company's Profit is more on weekdays as compare to weekends"
   ]
  },
  {
   "cell_type": "code",
   "execution_count": 176,
   "id": "7af95ca1-736f-40ff-bb82-57ebfdde12b1",
   "metadata": {},
   "outputs": [],
   "source": [
    "store_data[\"Order Week Day\"] = pd.DatetimeIndex(store_data[\"Order Date\"]).day_name()"
   ]
  },
  {
   "cell_type": "code",
   "execution_count": 178,
   "id": "92d7903e-b7ec-4af7-8858-edc41a018f03",
   "metadata": {},
   "outputs": [
    {
     "data": {
      "text/html": [
       "<div>\n",
       "<style scoped>\n",
       "    .dataframe tbody tr th:only-of-type {\n",
       "        vertical-align: middle;\n",
       "    }\n",
       "\n",
       "    .dataframe tbody tr th {\n",
       "        vertical-align: top;\n",
       "    }\n",
       "\n",
       "    .dataframe thead th {\n",
       "        text-align: right;\n",
       "    }\n",
       "</style>\n",
       "<table border=\"1\" class=\"dataframe\">\n",
       "  <thead>\n",
       "    <tr style=\"text-align: right;\">\n",
       "      <th></th>\n",
       "      <th>Order Date</th>\n",
       "      <th>Ship Date</th>\n",
       "      <th>Ship Mode</th>\n",
       "      <th>Customer ID</th>\n",
       "      <th>Customer Name</th>\n",
       "      <th>Segment</th>\n",
       "      <th>City</th>\n",
       "      <th>State</th>\n",
       "      <th>Country</th>\n",
       "      <th>Market</th>\n",
       "      <th>...</th>\n",
       "      <th>Sub-Category</th>\n",
       "      <th>Product Name</th>\n",
       "      <th>Sales</th>\n",
       "      <th>Quantity</th>\n",
       "      <th>Discount</th>\n",
       "      <th>Profit</th>\n",
       "      <th>Shipping Cost</th>\n",
       "      <th>Order Priority</th>\n",
       "      <th>Order Month</th>\n",
       "      <th>Order Week Day</th>\n",
       "    </tr>\n",
       "  </thead>\n",
       "  <tbody>\n",
       "    <tr>\n",
       "      <th>0</th>\n",
       "      <td>1/1/2011</td>\n",
       "      <td>6/1/2011</td>\n",
       "      <td>Standard Class</td>\n",
       "      <td>TB-11280</td>\n",
       "      <td>Toby Braunhardt</td>\n",
       "      <td>Consumer</td>\n",
       "      <td>Constantine</td>\n",
       "      <td>Constantine</td>\n",
       "      <td>Algeria</td>\n",
       "      <td>Africa</td>\n",
       "      <td>...</td>\n",
       "      <td>Storage</td>\n",
       "      <td>Tenex Lockers, Blue</td>\n",
       "      <td>408.300</td>\n",
       "      <td>2</td>\n",
       "      <td>0.000</td>\n",
       "      <td>106.140</td>\n",
       "      <td>35.460</td>\n",
       "      <td>Medium</td>\n",
       "      <td>1</td>\n",
       "      <td>Saturday</td>\n",
       "    </tr>\n",
       "    <tr>\n",
       "      <th>1</th>\n",
       "      <td>1/1/2011</td>\n",
       "      <td>8/1/2011</td>\n",
       "      <td>Standard Class</td>\n",
       "      <td>JH-15985</td>\n",
       "      <td>Joseph Holt</td>\n",
       "      <td>Consumer</td>\n",
       "      <td>Wagga Wagga</td>\n",
       "      <td>New South Wales</td>\n",
       "      <td>Australia</td>\n",
       "      <td>APAC</td>\n",
       "      <td>...</td>\n",
       "      <td>Supplies</td>\n",
       "      <td>Acme Trimmer, High Speed</td>\n",
       "      <td>120.366</td>\n",
       "      <td>3</td>\n",
       "      <td>0.100</td>\n",
       "      <td>36.036</td>\n",
       "      <td>9.720</td>\n",
       "      <td>Medium</td>\n",
       "      <td>1</td>\n",
       "      <td>Saturday</td>\n",
       "    </tr>\n",
       "    <tr>\n",
       "      <th>2</th>\n",
       "      <td>1/1/2011</td>\n",
       "      <td>5/1/2011</td>\n",
       "      <td>Second Class</td>\n",
       "      <td>AT-735</td>\n",
       "      <td>Annie Thurman</td>\n",
       "      <td>Consumer</td>\n",
       "      <td>Budapest</td>\n",
       "      <td>Budapest</td>\n",
       "      <td>Hungary</td>\n",
       "      <td>EMEA</td>\n",
       "      <td>...</td>\n",
       "      <td>Storage</td>\n",
       "      <td>Tenex Box, Single Width</td>\n",
       "      <td>66.120</td>\n",
       "      <td>4</td>\n",
       "      <td>0.000</td>\n",
       "      <td>29.640</td>\n",
       "      <td>8.170</td>\n",
       "      <td>High</td>\n",
       "      <td>1</td>\n",
       "      <td>Saturday</td>\n",
       "    </tr>\n",
       "    <tr>\n",
       "      <th>3</th>\n",
       "      <td>1/1/2011</td>\n",
       "      <td>5/1/2011</td>\n",
       "      <td>Second Class</td>\n",
       "      <td>EM-14140</td>\n",
       "      <td>Eugene Moren</td>\n",
       "      <td>Home Office</td>\n",
       "      <td>Stockholm</td>\n",
       "      <td>Stockholm</td>\n",
       "      <td>Sweden</td>\n",
       "      <td>EU</td>\n",
       "      <td>...</td>\n",
       "      <td>Paper</td>\n",
       "      <td>Enermax Note Cards, Premium</td>\n",
       "      <td>44.865</td>\n",
       "      <td>3</td>\n",
       "      <td>0.500</td>\n",
       "      <td>-26.055</td>\n",
       "      <td>4.820</td>\n",
       "      <td>High</td>\n",
       "      <td>1</td>\n",
       "      <td>Saturday</td>\n",
       "    </tr>\n",
       "    <tr>\n",
       "      <th>4</th>\n",
       "      <td>1/1/2011</td>\n",
       "      <td>8/1/2011</td>\n",
       "      <td>Standard Class</td>\n",
       "      <td>JH-15985</td>\n",
       "      <td>Joseph Holt</td>\n",
       "      <td>Consumer</td>\n",
       "      <td>Wagga Wagga</td>\n",
       "      <td>New South Wales</td>\n",
       "      <td>Australia</td>\n",
       "      <td>APAC</td>\n",
       "      <td>...</td>\n",
       "      <td>Furnishings</td>\n",
       "      <td>Eldon Light Bulb, Duo Pack</td>\n",
       "      <td>113.670</td>\n",
       "      <td>5</td>\n",
       "      <td>0.100</td>\n",
       "      <td>37.770</td>\n",
       "      <td>4.700</td>\n",
       "      <td>Medium</td>\n",
       "      <td>1</td>\n",
       "      <td>Saturday</td>\n",
       "    </tr>\n",
       "  </tbody>\n",
       "</table>\n",
       "<p>5 rows × 23 columns</p>\n",
       "</div>"
      ],
      "text/plain": [
       "  Order Date Ship Date       Ship Mode Customer ID    Customer Name  \\\n",
       "0   1/1/2011  6/1/2011  Standard Class    TB-11280  Toby Braunhardt   \n",
       "1   1/1/2011  8/1/2011  Standard Class    JH-15985      Joseph Holt   \n",
       "2   1/1/2011  5/1/2011    Second Class      AT-735    Annie Thurman   \n",
       "3   1/1/2011  5/1/2011    Second Class    EM-14140     Eugene Moren   \n",
       "4   1/1/2011  8/1/2011  Standard Class    JH-15985      Joseph Holt   \n",
       "\n",
       "       Segment         City            State    Country  Market  ...  \\\n",
       "0     Consumer  Constantine      Constantine    Algeria  Africa  ...   \n",
       "1     Consumer  Wagga Wagga  New South Wales  Australia    APAC  ...   \n",
       "2     Consumer     Budapest         Budapest    Hungary    EMEA  ...   \n",
       "3  Home Office    Stockholm        Stockholm     Sweden      EU  ...   \n",
       "4     Consumer  Wagga Wagga  New South Wales  Australia    APAC  ...   \n",
       "\n",
       "  Sub-Category                 Product Name   Sales Quantity Discount  Profit  \\\n",
       "0      Storage          Tenex Lockers, Blue 408.300        2    0.000 106.140   \n",
       "1     Supplies     Acme Trimmer, High Speed 120.366        3    0.100  36.036   \n",
       "2      Storage      Tenex Box, Single Width  66.120        4    0.000  29.640   \n",
       "3        Paper  Enermax Note Cards, Premium  44.865        3    0.500 -26.055   \n",
       "4  Furnishings   Eldon Light Bulb, Duo Pack 113.670        5    0.100  37.770   \n",
       "\n",
       "   Shipping Cost  Order Priority  Order Month  Order Week Day  \n",
       "0         35.460          Medium            1        Saturday  \n",
       "1          9.720          Medium            1        Saturday  \n",
       "2          8.170            High            1        Saturday  \n",
       "3          4.820            High            1        Saturday  \n",
       "4          4.700          Medium            1        Saturday  \n",
       "\n",
       "[5 rows x 23 columns]"
      ]
     },
     "execution_count": 178,
     "metadata": {},
     "output_type": "execute_result"
    }
   ],
   "source": [
    "store_data.head()"
   ]
  },
  {
   "cell_type": "code",
   "execution_count": 180,
   "id": "7cbc5a2c-2b37-4804-867e-817166b2e493",
   "metadata": {},
   "outputs": [],
   "source": [
    "weekly_profit = store_data.groupby([\"Order Week Day\"]).agg({\"Profit\":\"sum\"})"
   ]
  },
  {
   "cell_type": "code",
   "execution_count": 182,
   "id": "8b46cb4a-4f15-4421-8fd1-4bb1bb35e52f",
   "metadata": {},
   "outputs": [],
   "source": [
    "weekly_profit[\"Profit\"] = round(weekly_profit[\"Profit\"],2)"
   ]
  },
  {
   "cell_type": "code",
   "execution_count": 190,
   "id": "b794a09e-2ede-4482-8051-a4d1d3828f0a",
   "metadata": {},
   "outputs": [
    {
     "name": "stderr",
     "output_type": "stream",
     "text": [
      "C:\\Users\\Administrator\\AppData\\Local\\Temp\\ipykernel_16008\\90942736.py:3: FutureWarning: \n",
      "\n",
      "Passing `palette` without assigning `hue` is deprecated and will be removed in v0.14.0. Assign the `x` variable to `hue` and set `legend=False` for the same effect.\n",
      "\n",
      "  ax_3= sns.barplot(data = weekly_profit, x= \"Order Week Day\",y=\"Profit\",order=ordering,palette=\"winter\")\n"
     ]
    },
    {
     "data": {
      "image/png": "[encoded data removed]",
      "text/plain": [
       "<Figure size 1000x500 with 1 Axes>"
      ]
     },
     "metadata": {},
     "output_type": "display_data"
    }
   ],
   "source": [
    "ordering = [\"Monday\",\"Tuesday\",\"Wednesday\",\"Thursday\",\"Friday\",\"Saturday\",\"Sunday\"]\n",
    "plt.figure(figsize = (10,5))\n",
    "ax_3= sns.barplot(data = weekly_profit, x= \"Order Week Day\",y=\"Profit\",order=ordering,palette=\"winter\")\n",
    "for x in ax_3.containers:\n",
    "    ax_3.bar_label(x)\n",
    "plt.title(\"Weekly Profit Distribution\")\n",
    "plt.show()"
   ]
  },
  {
   "cell_type": "markdown",
   "id": "3293ed1f-af92-4432-8814-4fa7dfcf27b9",
   "metadata": {},
   "source": [
    "Conclusion - Hypothesis is supported as company profit on weekdays are genuinly higher as compare to weekends"
   ]
  },
  {
   "cell_type": "code",
   "execution_count": null,
   "id": "693da78a-a488-4e1c-b1ca-54617746066f",
   "metadata": {},
   "outputs": [],
   "source": []
  }
 ],
 "metadata": {
  "kernelspec": {
   "display_name": "Python 3 (ipykernel)",
   "language": "python",
   "name": "python3"
  },
  "language_info": {
   "codemirror_mode": {
    "name": "ipython",
    "version": 3
   },
   "file_extension": ".py",
   "mimetype": "text/x-python",
   "name": "python",
   "nbconvert_exporter": "python",
   "pygments_lexer": "ipython3",
   "version": "3.11.7"
  }
 },
 "nbformat": 4,
 "nbformat_minor": 5
}
